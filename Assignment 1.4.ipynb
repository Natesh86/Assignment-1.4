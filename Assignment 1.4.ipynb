{
 "cells": [
  {
   "cell_type": "code",
   "execution_count": 8,
   "metadata": {},
   "outputs": [
    {
     "name": "stdout",
     "output_type": "stream",
     "text": [
      "1277.9581296169815\n"
     ]
    }
   ],
   "source": [
    "d=12# diameter\n",
    "r=d/2#radius\n",
    "pi=3.14\n",
    "V=(4/3)*(pi)**r#volume\n",
    "print(V)"
   ]
  }
 ],
 "metadata": {
  "kernelspec": {
   "display_name": "Python 3",
   "language": "python",
   "name": "python3"
  }
 },
 "nbformat": 4,
 "nbformat_minor": 2
}
